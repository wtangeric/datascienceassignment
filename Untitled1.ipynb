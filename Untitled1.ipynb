{
 "cells": [
  {
   "cell_type": "markdown",
   "id": "6032cbbc-9539-4499-b235-4ef17b0ae5c3",
   "metadata": {},
   "source": [
    "# My Jupyter Notebook on IBM Watson Studio"
   ]
  },
  {
   "cell_type": "markdown",
   "id": "c14ad92d-09e3-4985-b931-7b513d4166d3",
   "metadata": {},
   "source": [
    "**Eric Tang**<br>Chief Data Scientist"
   ]
  },
  {
   "cell_type": "markdown",
   "id": "14f14f0b-2600-44cb-b890-4fa2f2d0b3ab",
   "metadata": {},
   "source": [
    "*I am interested in data science as it has great potential to solve a lot of problems in the world with all the data that can be gathered and analyzed to predict highly possible outcomes. Although this field can also be highly destructive, I believe that overall, it will contribute positively to the greater good.*"
   ]
  },
  {
   "cell_type": "markdown",
   "id": "4a477df9-5828-4e6d-9967-69bf4e843d9f",
   "metadata": {},
   "source": [
    "### Cell 5 is a simple demonstration of how a simple calculation can be executed in Jupyter Notebook."
   ]
  },
  {
   "cell_type": "code",
   "execution_count": 1,
   "id": "5c76cc07-3be5-4da7-aadf-52246ecd756a",
   "metadata": {},
   "outputs": [
    {
     "data": {
      "text/plain": [
       "2"
      ]
     },
     "execution_count": 1,
     "metadata": {},
     "output_type": "execute_result"
    }
   ],
   "source": [
    "1 + 1"
   ]
  },
  {
   "cell_type": "markdown",
   "id": "70b1de78-da0c-4bdf-a402-94a383ff48f8",
   "metadata": {},
   "source": [
    "> This is a blocked quote\n",
    "---\n",
    "> And now I'm creating a bulleted list of my favorite fruits:\n",
    "- Apples\n",
    "- Oranges\n",
    "- Pineapples\n",
    "- Grapefruits\n",
    "- Pears"
   ]
  },
  {
   "cell_type": "code",
   "execution_count": null,
   "id": "125c57d9-23be-4d5b-ba88-c24f6ea08709",
   "metadata": {},
   "outputs": [],
   "source": []
  }
 ],
 "metadata": {
  "kernelspec": {
   "display_name": "Python",
   "language": "python",
   "name": "conda-env-python-py"
  },
  "language_info": {
   "codemirror_mode": {
    "name": "ipython",
    "version": 3
   },
   "file_extension": ".py",
   "mimetype": "text/x-python",
   "name": "python",
   "nbconvert_exporter": "python",
   "pygments_lexer": "ipython3",
   "version": "3.7.12"
  }
 },
 "nbformat": 4,
 "nbformat_minor": 5
}
